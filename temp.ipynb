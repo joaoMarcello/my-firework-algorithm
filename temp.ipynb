{
 "cells": [
  {
   "cell_type": "code",
   "execution_count": 1,
   "id": "0ce1ee63",
   "metadata": {},
   "outputs": [],
   "source": [
    "import argparse\n",
    "from datetime import datetime, timedelta, time\n",
    "import random\n",
    "\n",
    "import numpy as np\n",
    "\n",
    "from fwa import FWA\n",
    "from utils import load_data\n",
    "\n",
    "SEED = 42\n",
    "np.random.seed(SEED)\n",
    "random.seed(SEED)"
   ]
  },
  {
   "cell_type": "code",
   "execution_count": 2,
   "id": "eb7ce9a5",
   "metadata": {},
   "outputs": [],
   "source": [
    "data = load_data(xml_path='data/ORTEC01.xml')\n",
    "shifts = data['shifts']\n",
    "\n",
    "def pad_time_string(tstr):\n",
    "    parts = tstr.split(\":\")\n",
    "    parts = [part.zfill(2) for part in parts]\n",
    "    while len(parts) < 3:\n",
    "        parts.append(\"00\")\n",
    "    return \":\".join(parts)\n",
    "shifts = dict(sorted(shifts.items(),\n",
    "    key=lambda item: datetime.strptime(pad_time_string(item[1][\"StartTime\"]), \"%H:%M:%S\").time()\n",
    "    if item[1][\"StartTime\"] else time.max))\n",
    "\n",
    "\n",
    "shift_groups = data['shift_groups']\n",
    "employees = data['employees']\n",
    "contracts = data['contracts']\n",
    "cover = data['cover_requirements']\n",
    "off_reqs = data['shift_off_requests']\n",
    "on_reqs = data['shift_on_requests']\n",
    "start_date = data['start_date']  # datetime.date já\n",
    "end_date = data['end_date']      # datetime.date já\n",
    "cover_weights = data['cover_weights']\n",
    "\n",
    "n_days = (end_date - start_date).days + 1\n",
    "n_employees = len(employees)\n",
    "shift_ids = list(shifts.keys())\n",
    "n_shift_types = len(shift_ids)"
   ]
  },
  {
   "cell_type": "code",
   "execution_count": 8,
   "id": "f6068842",
   "metadata": {},
   "outputs": [
    {
     "data": {
      "text/plain": [
       "defaultdict(dict,\n",
       "            {'Saturday': {'D': 2, 'E': 2, 'L': 2, 'N': 1},\n",
       "             'Sunday': {'D': 2, 'E': 2, 'L': 2, 'N': 1},\n",
       "             'Monday': {'D': 3, 'E': 3, 'L': 3, 'N': 1},\n",
       "             'Tuesday': {'D': 3, 'E': 3, 'L': 3, 'N': 1},\n",
       "             'Wednesday': {'D': 3, 'E': 3, 'L': 3, 'N': 1},\n",
       "             'Thursday': {'D': 3, 'E': 3, 'L': 3, 'N': 1},\n",
       "             'Friday': {'D': 3, 'E': 3, 'L': 3, 'N': 1}})"
      ]
     },
     "execution_count": 8,
     "metadata": {},
     "output_type": "execute_result"
    }
   ],
   "source": [
    "cover"
   ]
  },
  {
   "cell_type": "code",
   "execution_count": 5,
   "id": "baad8831",
   "metadata": {},
   "outputs": [],
   "source": [
    "# Mapeamento para acesso rápido ao índice do funcionário\n",
    "employee_id_to_index = {eid: i for i, eid in enumerate(employees.keys())}\n",
    "# Mapeamento para acesso rápido ao índice do turno\n",
    "shift_id_to_index = {sid: i for i, sid in enumerate(shift_ids)}\n",
    "\n",
    "solution_size = n_employees * n_days\n",
    "bounds = [(0 - 0.5, n_shift_types - 1 + 0.5)] * solution_size  # cada valor representa um turno possível"
   ]
  },
  {
   "cell_type": "code",
   "execution_count": 6,
   "id": "a2a77565",
   "metadata": {},
   "outputs": [
    {
     "data": {
      "text/plain": [
       "{'E': 0, 'D': 1, 'L': 2, 'N': 3, 'OFF': 4}"
      ]
     },
     "execution_count": 6,
     "metadata": {},
     "output_type": "execute_result"
    }
   ],
   "source": [
    "shift_id_to_index"
   ]
  },
  {
   "cell_type": "code",
   "execution_count": 7,
   "id": "fee2ff4e",
   "metadata": {},
   "outputs": [
    {
     "data": {
      "text/plain": [
       "['E', 'D', 'L', 'N', 'OFF']"
      ]
     },
     "execution_count": 7,
     "metadata": {},
     "output_type": "execute_result"
    }
   ],
   "source": [
    "shift_ids"
   ]
  },
  {
   "cell_type": "code",
   "execution_count": null,
   "id": "d88909ee",
   "metadata": {},
   "outputs": [],
   "source": [
    "n_employees"
   ]
  },
  {
   "cell_type": "code",
   "execution_count": null,
   "id": "319dba27",
   "metadata": {},
   "outputs": [],
   "source": [
    "n_days"
   ]
  },
  {
   "cell_type": "code",
   "execution_count": 3,
   "id": "46d9c2c8",
   "metadata": {},
   "outputs": [
    {
     "data": {
      "text/plain": [
       "5"
      ]
     },
     "execution_count": 3,
     "metadata": {},
     "output_type": "execute_result"
    }
   ],
   "source": [
    "len(shifts)"
   ]
  },
  {
   "cell_type": "code",
   "execution_count": 4,
   "id": "33841682",
   "metadata": {},
   "outputs": [
    {
     "name": "stdout",
     "output_type": "stream",
     "text": [
      "{'Label': 'E', 'Name': 'Early', 'StartTime': '07:00:00', 'EndTime': '16:00:00', 'Color': 'Red'}\n",
      "{'Label': 'D', 'Name': 'Day', 'StartTime': '08:00:00', 'EndTime': '17:00:00', 'Color': 'Lime'}\n",
      "{'Label': 'L', 'Name': 'Late', 'StartTime': '14:00:00', 'EndTime': '23:00:00', 'Color': 'Blue'}\n",
      "{'Label': 'N', 'Name': 'Night', 'StartTime': '23:00:00', 'EndTime': '07:00:00', 'Color': 'Gray'}\n",
      "{'Label': 'OFF', 'Name': 'Folga', 'StartTime': None, 'EndTime': None}\n"
     ]
    }
   ],
   "source": [
    "for _, v in shifts.items():\n",
    "    print(v)"
   ]
  },
  {
   "cell_type": "code",
   "execution_count": null,
   "id": "9178e3c0",
   "metadata": {},
   "outputs": [],
   "source": [
    "shifts_ordered = dict(\n",
    "    sorted(\n",
    "        shifts.items(),\n",
    "        key=lambda item: datetime.strptime(item[1][\"StartTime\"], \"%H:%M:%S\") \n",
    "        if item[1][\"StartTime\"] else datetime.max\n",
    "    )\n",
    ")"
   ]
  },
  {
   "cell_type": "code",
   "execution_count": null,
   "id": "6afa302b",
   "metadata": {},
   "outputs": [],
   "source": [
    "for _, v in shifts_ordered.items():\n",
    "    print(v)"
   ]
  },
  {
   "cell_type": "code",
   "execution_count": null,
   "id": "06904d4c",
   "metadata": {},
   "outputs": [],
   "source": [
    "shifts.keys()"
   ]
  },
  {
   "cell_type": "code",
   "execution_count": null,
   "id": "2f5d22ce",
   "metadata": {},
   "outputs": [],
   "source": [
    "sorted(shifts.keys())"
   ]
  },
  {
   "cell_type": "code",
   "execution_count": null,
   "id": "0a90587b",
   "metadata": {},
   "outputs": [],
   "source": [
    "def fitness(solution):\n",
    "    return np.random.randint(0, 20000)"
   ]
  },
  {
   "cell_type": "code",
   "execution_count": null,
   "id": "ec4e4ccb",
   "metadata": {},
   "outputs": [],
   "source": [
    "fwa = FWA(func=fitness, \n",
    "              dim=solution_size, \n",
    "              bounds=bounds, \n",
    "              selection_method='distance',\n",
    "              seed=SEED)\n",
    "\n",
    "fwa.config(n=5, \n",
    "            m=50, \n",
    "            a = 0.04,\n",
    "            b = 0.8,\n",
    "            A_hat = 1.5,\n",
    "            m_hat= 5,\n",
    "            max_iter=100)"
   ]
  },
  {
   "cell_type": "code",
   "execution_count": null,
   "id": "e64ae66b",
   "metadata": {},
   "outputs": [],
   "source": [
    "fwa.init_fireworks()"
   ]
  },
  {
   "cell_type": "code",
   "execution_count": null,
   "id": "9265fa74",
   "metadata": {},
   "outputs": [],
   "source": [
    "len(fwa.fireworks)"
   ]
  },
  {
   "cell_type": "code",
   "execution_count": null,
   "id": "c666b840",
   "metadata": {},
   "outputs": [],
   "source": [
    "fwa.fireworks[0].shape"
   ]
  },
  {
   "cell_type": "code",
   "execution_count": null,
   "id": "b33e0407",
   "metadata": {},
   "outputs": [],
   "source": [
    "schedule = np.rint(fwa.fireworks[0]).astype(int).reshape((n_employees, n_days))"
   ]
  },
  {
   "cell_type": "code",
   "execution_count": null,
   "id": "ec4a231b",
   "metadata": {},
   "outputs": [],
   "source": [
    "schedule.shape"
   ]
  },
  {
   "cell_type": "code",
   "execution_count": null,
   "id": "26c4552b",
   "metadata": {},
   "outputs": [],
   "source": [
    "for id, value in employees.items():\n",
    "    print(id, value)"
   ]
  },
  {
   "cell_type": "code",
   "execution_count": 5,
   "id": "50a56007",
   "metadata": {},
   "outputs": [
    {
     "data": {
      "text/plain": [
       "[{'Max': {'Count': 20,\n",
       "   'Weight': 1000.0,\n",
       "   'WeightFunction': None,\n",
       "   'Label': 'Max 20 shifts'},\n",
       "  'Min': None,\n",
       "  'RegionStart': None,\n",
       "  'RegionEnd': None,\n",
       "  'Pattern': [{'ShiftGroup': 'All'}]},\n",
       " {'Max': {'Count': 0,\n",
       "   'Weight': 100.0,\n",
       "   'WeightFunction': None,\n",
       "   'Label': 'Min 2 consecutive free days'},\n",
       "  'Min': None,\n",
       "  'RegionStart': None,\n",
       "  'RegionEnd': None,\n",
       "  'Pattern': [{'Start': '0', 'Shift': '-', 'ShiftGroup': 'All'},\n",
       "   {'ShiftGroup': 'All', 'Shift': '-'}]},\n",
       " {'Max': {'Count': 3,\n",
       "   'Weight': 1000.0,\n",
       "   'WeightFunction': None,\n",
       "   'Label': 'Max 3 nights'},\n",
       "  'Min': None,\n",
       "  'RegionStart': None,\n",
       "  'RegionEnd': None,\n",
       "  'Pattern': [{'Shift': 'N'}]},\n",
       " {'Max': {'Count': 3,\n",
       "   'Weight': 1000.0,\n",
       "   'WeightFunction': None,\n",
       "   'Label': 'Max 3 working weekends'},\n",
       "  'Min': None,\n",
       "  'RegionStart': None,\n",
       "  'RegionEnd': None,\n",
       "  'Pattern': [{'Start': '30', 'Shift': 'N'},\n",
       "   {'StartDay': 'Saturday', 'ShiftGroup': 'All', 'Shift': '-'},\n",
       "   {'StartDay': 'Saturday', 'Shift': '-', 'ShiftGroup': 'All'},\n",
       "   {'StartDay': 'Saturday', 'ShiftGroup': 'All'}]},\n",
       " {'Max': {'Count': 5,\n",
       "   'Weight': 10.0,\n",
       "   'WeightFunction': 'Quadratic',\n",
       "   'Label': 'Shifts per week'},\n",
       "  'Min': {'Count': 4,\n",
       "   'Weight': 10.0,\n",
       "   'WeightFunction': 'Quadratic',\n",
       "   'Label': 'Shifts per week'},\n",
       "  'RegionStart': 0,\n",
       "  'RegionEnd': 4,\n",
       "  'Pattern': [{'ShiftGroup': 'All'}]},\n",
       " {'Max': {'Count': 5,\n",
       "   'Weight': 10.0,\n",
       "   'WeightFunction': 'Quadratic',\n",
       "   'Label': 'Shifts per week'},\n",
       "  'Min': {'Count': 4,\n",
       "   'Weight': 10.0,\n",
       "   'WeightFunction': 'Quadratic',\n",
       "   'Label': 'Shifts per week'},\n",
       "  'RegionStart': 5,\n",
       "  'RegionEnd': 11,\n",
       "  'Pattern': [{'ShiftGroup': 'All'}]},\n",
       " {'Max': {'Count': 5,\n",
       "   'Weight': 10.0,\n",
       "   'WeightFunction': 'Quadratic',\n",
       "   'Label': 'Shifts per week'},\n",
       "  'Min': {'Count': 4,\n",
       "   'Weight': 10.0,\n",
       "   'WeightFunction': 'Quadratic',\n",
       "   'Label': 'Shifts per week'},\n",
       "  'RegionStart': 12,\n",
       "  'RegionEnd': 18,\n",
       "  'Pattern': [{'ShiftGroup': 'All'}]},\n",
       " {'Max': {'Count': 5,\n",
       "   'Weight': 10.0,\n",
       "   'WeightFunction': 'Quadratic',\n",
       "   'Label': 'Shifts per week'},\n",
       "  'Min': {'Count': 4,\n",
       "   'Weight': 10.0,\n",
       "   'WeightFunction': 'Quadratic',\n",
       "   'Label': 'Shifts per week'},\n",
       "  'RegionStart': 19,\n",
       "  'RegionEnd': 25,\n",
       "  'Pattern': [{'ShiftGroup': 'All'}]},\n",
       " {'Max': {'Count': 5,\n",
       "   'Weight': 10.0,\n",
       "   'WeightFunction': 'Quadratic',\n",
       "   'Label': 'Shifts per week'},\n",
       "  'Min': {'Count': 2,\n",
       "   'Weight': 90.0,\n",
       "   'WeightFunction': 'Quadratic',\n",
       "   'Label': 'Shifts per week'},\n",
       "  'RegionStart': 26,\n",
       "  'RegionEnd': 30,\n",
       "  'Pattern': [{'ShiftGroup': 'All'}]},\n",
       " {'Max': {'Count': 0, 'Weight': 10.0, 'WeightFunction': None, 'Label': None},\n",
       "  'Min': None,\n",
       "  'RegionStart': None,\n",
       "  'RegionEnd': None,\n",
       "  'Pattern': [{'Start': '0', 'Shift': 'E', 'NotShift': 'E'},\n",
       "   {'NotShift': 'E', 'Shift': 'E'}]},\n",
       " {'Max': {'Count': 0, 'Weight': 10.0, 'WeightFunction': None, 'Label': None},\n",
       "  'Min': None,\n",
       "  'RegionStart': None,\n",
       "  'RegionEnd': None,\n",
       "  'Pattern': [{'Start': '0', 'Shift': 'E'}, {'NotShift': 'E', 'Shift': 'E'}]},\n",
       " {'Max': {'Count': 0, 'Weight': 30.0, 'WeightFunction': None, 'Label': None},\n",
       "  'Min': None,\n",
       "  'RegionStart': None,\n",
       "  'RegionEnd': None,\n",
       "  'Pattern': [{'Start': '0', 'Shift': 'E'}, {'NotShift': 'E', 'Shift': 'E'}]},\n",
       " {'Max': {'Count': 0, 'Weight': 50.0, 'WeightFunction': None, 'Label': None},\n",
       "  'Min': None,\n",
       "  'RegionStart': None,\n",
       "  'RegionEnd': None,\n",
       "  'Pattern': [{'Start': '0', 'Shift': 'E'}, {'NotShift': 'E', 'Shift': 'E'}]},\n",
       " {'Max': {'Count': 0, 'Weight': 10.0, 'WeightFunction': None, 'Label': None},\n",
       "  'Min': None,\n",
       "  'RegionStart': None,\n",
       "  'RegionEnd': None,\n",
       "  'Pattern': [{'Start': '0', 'Shift': 'L', 'NotShift': 'L'},\n",
       "   {'NotShift': 'L', 'Shift': 'L'}]},\n",
       " {'Max': {'Count': 0, 'Weight': 10.0, 'WeightFunction': None, 'Label': None},\n",
       "  'Min': None,\n",
       "  'RegionStart': None,\n",
       "  'RegionEnd': None,\n",
       "  'Pattern': [{'Start': '0', 'Shift': 'L'}, {'NotShift': 'L', 'Shift': 'L'}]},\n",
       " {'Max': {'Count': 0, 'Weight': 30.0, 'WeightFunction': None, 'Label': None},\n",
       "  'Min': None,\n",
       "  'RegionStart': None,\n",
       "  'RegionEnd': None,\n",
       "  'Pattern': [{'Start': '0', 'Shift': 'L'}, {'NotShift': 'L', 'Shift': 'L'}]},\n",
       " {'Max': {'Count': 0, 'Weight': 50.0, 'WeightFunction': None, 'Label': None},\n",
       "  'Min': None,\n",
       "  'RegionStart': None,\n",
       "  'RegionEnd': None,\n",
       "  'Pattern': [{'Start': '0', 'Shift': 'L'}, {'NotShift': 'L', 'Shift': 'L'}]},\n",
       " {'Max': {'Count': 0, 'Weight': 1000.0, 'WeightFunction': None, 'Label': None},\n",
       "  'Min': None,\n",
       "  'RegionStart': None,\n",
       "  'RegionEnd': None,\n",
       "  'Pattern': [{'Start': '0', 'Shift': 'N', 'NotShift': 'N'},\n",
       "   {'NotShift': 'N', 'Shift': 'N'}]},\n",
       " {'Max': {'Count': 0, 'Weight': 1000.0, 'WeightFunction': None, 'Label': None},\n",
       "  'Min': None,\n",
       "  'RegionStart': None,\n",
       "  'RegionEnd': None,\n",
       "  'Pattern': [{'Shift': 'N'}]},\n",
       " {'Max': {'Count': 0, 'Weight': 5.0, 'WeightFunction': None, 'Label': None},\n",
       "  'Min': None,\n",
       "  'RegionStart': None,\n",
       "  'RegionEnd': None,\n",
       "  'Pattern': [{'Shift': 'E'}]},\n",
       " {'Max': {'Count': 0, 'Weight': 1.0, 'WeightFunction': None, 'Label': None},\n",
       "  'Min': None,\n",
       "  'RegionStart': None,\n",
       "  'RegionEnd': None,\n",
       "  'Pattern': [{'Shift': 'N'}]},\n",
       " {'Max': {'Count': 0, 'Weight': 5.0, 'WeightFunction': None, 'Label': None},\n",
       "  'Min': None,\n",
       "  'RegionStart': None,\n",
       "  'RegionEnd': None,\n",
       "  'Pattern': [{'Shift': 'L', 'ShiftGroup': 'ED'}]},\n",
       " {'Max': {'Count': 0, 'Weight': 1000.0, 'WeightFunction': None, 'Label': None},\n",
       "  'Min': None,\n",
       "  'RegionStart': None,\n",
       "  'RegionEnd': None,\n",
       "  'Pattern': [{'Shift': 'N', 'ShiftGroup': 'ELD'}]},\n",
       " {'Max': {'Count': 0, 'Weight': 1000.0, 'WeightFunction': None, 'Label': None},\n",
       "  'Min': None,\n",
       "  'RegionStart': None,\n",
       "  'RegionEnd': None,\n",
       "  'Pattern': [{'ShiftGroup': 'All'}]},\n",
       " {'Max': {'Count': 0,\n",
       "   'Weight': 1000.0,\n",
       "   'WeightFunction': None,\n",
       "   'Label': 'No night shift before a free weekend'},\n",
       "  'Min': None,\n",
       "  'RegionStart': None,\n",
       "  'RegionEnd': None,\n",
       "  'Pattern': [{'StartDay': 'Friday', 'Shift': '-'}]},\n",
       " {'Max': {'Count': 0,\n",
       "   'Weight': 1000.0,\n",
       "   'WeightFunction': None,\n",
       "   'Label': 'At least two free days after a night shift'},\n",
       "  'Min': None,\n",
       "  'RegionStart': None,\n",
       "  'RegionEnd': None,\n",
       "  'Pattern': [{'Shift': '-', 'ShiftGroup': 'All'}]},\n",
       " {'Max': {'Count': 0,\n",
       "   'Weight': 1000.0,\n",
       "   'WeightFunction': None,\n",
       "   'Label': 'Complete weekends required'},\n",
       "  'Min': None,\n",
       "  'RegionStart': None,\n",
       "  'RegionEnd': None,\n",
       "  'Pattern': [{'StartDay': 'Saturday', 'ShiftGroup': 'All', 'Shift': '-'},\n",
       "   {'StartDay': 'Saturday', 'Shift': '-', 'ShiftGroup': 'All'}]},\n",
       " {'Max': {'Count': 0, 'Weight': 90.0, 'WeightFunction': None, 'Label': None},\n",
       "  'Min': None,\n",
       "  'RegionStart': None,\n",
       "  'RegionEnd': None,\n",
       "  'Pattern': [{'Start': '0', 'ShiftGroup': 'All', 'Shift': '-'},\n",
       "   {'Shift': '-', 'ShiftGroup': 'All'}]},\n",
       " {'Max': {'Count': 0, 'Weight': 40.0, 'WeightFunction': None, 'Label': None},\n",
       "  'Min': None,\n",
       "  'RegionStart': None,\n",
       "  'RegionEnd': None,\n",
       "  'Pattern': [{'Start': '0', 'ShiftGroup': 'All', 'Shift': '-'},\n",
       "   {'Shift': '-', 'ShiftGroup': 'All'}]},\n",
       " {'Max': {'Count': 0, 'Weight': 10.0, 'WeightFunction': None, 'Label': None},\n",
       "  'Min': None,\n",
       "  'RegionStart': None,\n",
       "  'RegionEnd': None,\n",
       "  'Pattern': [{'Start': '0', 'ShiftGroup': 'All', 'Shift': '-'},\n",
       "   {'Shift': '-', 'ShiftGroup': 'All'}]}]"
      ]
     },
     "execution_count": 5,
     "metadata": {},
     "output_type": "execute_result"
    }
   ],
   "source": [
    "contracts['36']"
   ]
  },
  {
   "cell_type": "code",
   "execution_count": null,
   "id": "4fd7d0cb",
   "metadata": {},
   "outputs": [],
   "source": []
  }
 ],
 "metadata": {
  "kernelspec": {
   "display_name": "env",
   "language": "python",
   "name": "python3"
  },
  "language_info": {
   "codemirror_mode": {
    "name": "ipython",
    "version": 3
   },
   "file_extension": ".py",
   "mimetype": "text/x-python",
   "name": "python",
   "nbconvert_exporter": "python",
   "pygments_lexer": "ipython3",
   "version": "3.11.9"
  }
 },
 "nbformat": 4,
 "nbformat_minor": 5
}
